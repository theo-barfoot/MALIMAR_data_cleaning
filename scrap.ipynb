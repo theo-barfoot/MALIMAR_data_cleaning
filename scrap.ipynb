{
 "cells": [
  {
   "cell_type": "code",
   "execution_count": 1,
   "metadata": {},
   "outputs": [],
   "source": [
    "import xnat\n",
    "import os\n",
    "import shutil"
   ]
  },
  {
   "cell_type": "code",
   "execution_count": 2,
   "metadata": {},
   "outputs": [],
   "source": [
    "from data_io import filter_series"
   ]
  },
  {
   "cell_type": "code",
   "execution_count": 3,
   "metadata": {},
   "outputs": [],
   "source": [
    "session = xnat.connect('https://bifrost.icr.ac.uk:8443/XNAT_anonymised/',user='tbarfoot',password='-----')"
   ]
  },
  {
   "cell_type": "code",
   "execution_count": 4,
   "metadata": {},
   "outputs": [
    {
     "name": "stdout",
     "output_type": "stream",
     "text": [
      "Scan <MrScanData fl3d_vibe_dixon_TRA_15deg 256_pocS_in (50)> does not contain a DICOM resource! oh\n"
     ]
    }
   ],
   "source": [
    "project = session.projects[\"MALIMAR_ALL\"]\n",
    "mrSession = project.experiments['20171204_125025_Avanto']\n",
    "malimarSeries = filter_series(mrSession)"
   ]
  },
  {
   "cell_type": "code",
   "execution_count": 7,
   "metadata": {},
   "outputs": [
    {
     "data": {
      "text/plain": [
       "{'inPhase': [<MrScanData T1 (59)>],\n",
       " 'outPhase': [<MrScanData T1 OPP (60)>],\n",
       " 'fat': [<MrScanData T1 FAT (62)>],\n",
       " 'water': [<MrScanData T1 WAT (63)>],\n",
       " 'b50': [<MrScanData 50 (23)>, <MrScanData B50 (42)>],\n",
       " 'b600': [<MrScanData 600 (24)>, <MrScanData B600 (37)>],\n",
       " 'b900': [<MrScanData 900 (25)>,\n",
       "  <MrScanData 900.2 (26)>,\n",
       "  <MrScanData B900 (32)>],\n",
       " 'adc': [<MrScanData ADC (45)>],\n",
       " 'diff': []}"
      ]
     },
     "execution_count": 7,
     "metadata": {},
     "output_type": "execute_result"
    }
   ],
   "source": [
    "malimarSeries.xnat"
   ]
  },
  {
   "cell_type": "code",
   "execution_count": 9,
   "metadata": {},
   "outputs": [
    {
     "name": "stdout",
     "output_type": "stream",
     "text": [
      "inPhase\n",
      "outPhase\n",
      "fat\n",
      "water\n",
      "b50\n",
      "b600\n",
      "b900\n",
      "adc\n",
      "diff\n"
     ]
    }
   ],
   "source": [
    "for key in malimarSeries.xnat:\n",
    "    print(key)"
   ]
  },
  {
   "cell_type": "code",
   "execution_count": 36,
   "metadata": {},
   "outputs": [],
   "source": [
    "complete = (1,1,1,1,1,0,1,1,0)"
   ]
  },
  {
   "cell_type": "code",
   "execution_count": 37,
   "metadata": {},
   "outputs": [],
   "source": [
    "a = []"
   ]
  },
  {
   "cell_type": "code",
   "execution_count": 38,
   "metadata": {},
   "outputs": [],
   "source": [
    "for key, c in zip(malimarSeries.xnat,complete):\n",
    "    a.append(len(malimarSeries.xnat[key])-c)"
   ]
  },
  {
   "cell_type": "markdown",
   "metadata": {},
   "source": [
    "Complete if:"
   ]
  },
  {
   "cell_type": "code",
   "execution_count": 39,
   "metadata": {},
   "outputs": [
    {
     "data": {
      "text/plain": [
       "True"
      ]
     },
     "execution_count": 39,
     "metadata": {},
     "output_type": "execute_result"
    }
   ],
   "source": [
    "min(a) > -1 "
   ]
  },
  {
   "cell_type": "markdown",
   "metadata": {},
   "source": [
    "Duplicates if:"
   ]
  },
  {
   "cell_type": "code",
   "execution_count": 40,
   "metadata": {},
   "outputs": [
    {
     "data": {
      "text/plain": [
       "True"
      ]
     },
     "execution_count": 40,
     "metadata": {},
     "output_type": "execute_result"
    }
   ],
   "source": [
    "max(a) > 0"
   ]
  },
  {
   "cell_type": "markdown",
   "metadata": {},
   "source": [
    "actually no as having b600 would trigger this conditon as well. Write a seperate function that looks at whether len of each list in dictionary is greater than 1"
   ]
  },
  {
   "cell_type": "code",
   "execution_count": 41,
   "metadata": {},
   "outputs": [
    {
     "data": {
      "text/plain": [
       "9"
      ]
     },
     "execution_count": 41,
     "metadata": {},
     "output_type": "execute_result"
    }
   ],
   "source": [
    "len(malimarSeries.xnat)"
   ]
  },
  {
   "cell_type": "code",
   "execution_count": 45,
   "metadata": {},
   "outputs": [],
   "source": [
    "keys = ['inPhase', 'outPhase', 'fat', 'water', 'b50', 'b600', 'b900', 'adc', 'diff']"
   ]
  },
  {
   "cell_type": "code",
   "execution_count": 48,
   "metadata": {},
   "outputs": [],
   "source": [
    "import pandas as pd"
   ]
  },
  {
   "cell_type": "code",
   "execution_count": null,
   "metadata": {},
   "outputs": [],
   "source": [
    "pd.D"
   ]
  },
  {
   "cell_type": "code",
   "execution_count": 50,
   "metadata": {},
   "outputs": [
    {
     "data": {
      "text/plain": [
       "{'inPhase': [pandas.core.frame.DataFrame],\n",
       " 'outPhase': [pandas.core.frame.DataFrame],\n",
       " 'fat': [pandas.core.frame.DataFrame],\n",
       " 'water': [pandas.core.frame.DataFrame],\n",
       " 'b50': [pandas.core.frame.DataFrame],\n",
       " 'b600': [pandas.core.frame.DataFrame],\n",
       " 'b900': [pandas.core.frame.DataFrame],\n",
       " 'adc': [pandas.core.frame.DataFrame],\n",
       " 'diff': [pandas.core.frame.DataFrame]}"
      ]
     },
     "execution_count": 50,
     "metadata": {},
     "output_type": "execute_result"
    }
   ],
   "source": [
    "dict.fromkeys(keys,[pd.DataFrame])"
   ]
  },
  {
   "cell_type": "code",
   "execution_count": 102,
   "metadata": {},
   "outputs": [],
   "source": [
    "xnat_paths = {'dix': {'inPhase': [], 'outPhase': [], 'fat': [], 'water': []},\n",
    "                           'dif': {'b50': [], 'b600': [], 'b900': [], 'adc': [], 'diff': []}}"
   ]
  },
  {
   "cell_type": "code",
   "execution_count": 110,
   "metadata": {},
   "outputs": [
    {
     "data": {
      "text/plain": [
       "['in']"
      ]
     },
     "execution_count": 110,
     "metadata": {},
     "output_type": "execute_result"
    }
   ],
   "source": [
    "xnat_paths['dix']['inPhase']"
   ]
  },
  {
   "cell_type": "code",
   "execution_count": 112,
   "metadata": {},
   "outputs": [
    {
     "name": "stdout",
     "output_type": "stream",
     "text": [
      "in\n",
      "out\n",
      "fat\n",
      "wat\n",
      "5\n",
      "6\n",
      "9\n",
      "a\n"
     ]
    }
   ],
   "source": [
    "for group in xnat_paths:\n",
    "    for series in xnat_paths[group]:\n",
    "        for item in xnat_paths[group][series]:\n",
    "            print(item)"
   ]
  },
  {
   "cell_type": "code",
   "execution_count": 115,
   "metadata": {},
   "outputs": [],
   "source": [
    "xnat_paths = {'dix': {'inPhase': ['in'], 'outPhase': ['out'], 'fat': ['fat'], 'water': ['wat']},\n",
    "              'dif': {'b50': ['a','b'], 'b600': ['c','d'], 'b900': ['e','f','g'], 'adc': ['h'], 'diff': []}}\n"
   ]
  },
  {
   "cell_type": "code",
   "execution_count": 129,
   "metadata": {},
   "outputs": [],
   "source": [
    "complete = ((1, 1, 1, 1),(1, 0, 1, 1, 0))"
   ]
  },
  {
   "cell_type": "code",
   "execution_count": 133,
   "metadata": {},
   "outputs": [
    {
     "name": "stdout",
     "output_type": "stream",
     "text": [
      "1\n",
      "1\n",
      "1\n",
      "1\n",
      "1\n",
      "0\n",
      "1\n",
      "1\n",
      "0\n"
     ]
    }
   ],
   "source": [
    "for comp in complete:\n",
    "    for c in comp:\n",
    "        print(c)"
   ]
  },
  {
   "cell_type": "code",
   "execution_count": 138,
   "metadata": {},
   "outputs": [
    {
     "name": "stdout",
     "output_type": "stream",
     "text": [
      "1\n",
      "1\n",
      "1\n",
      "1\n",
      "2\n",
      "2\n",
      "3\n",
      "1\n",
      "0\n"
     ]
    }
   ],
   "source": [
    "for group in xnat_paths:\n",
    "    for key in xnat_paths[group]:\n",
    "        print(len(xnat_paths[group][key]))"
   ]
  },
  {
   "cell_type": "code",
   "execution_count": 140,
   "metadata": {},
   "outputs": [
    {
     "name": "stdout",
     "output_type": "stream",
     "text": [
      "dix (1, 1, 1, 1)\n",
      "dif (1, 0, 1, 1, 0)\n"
     ]
    }
   ],
   "source": [
    "for group, comp in zip(xnat_paths, complete):\n",
    "    print(group,comp)"
   ]
  },
  {
   "cell_type": "code",
   "execution_count": 141,
   "metadata": {},
   "outputs": [],
   "source": [
    "a = []\n",
    "for group, comp in zip(xnat_paths, complete):\n",
    "    for key, c in zip(xnat_paths[group], comp):\n",
    "        a.append(len(xnat_paths[group][key]) - c)\n",
    "complete = min(a) > -1\n",
    "duplicates = max(a) > 0"
   ]
  },
  {
   "cell_type": "code",
   "execution_count": 142,
   "metadata": {},
   "outputs": [
    {
     "data": {
      "text/plain": [
       "True"
      ]
     },
     "execution_count": 142,
     "metadata": {},
     "output_type": "execute_result"
    }
   ],
   "source": [
    "complete"
   ]
  },
  {
   "cell_type": "code",
   "execution_count": 143,
   "metadata": {},
   "outputs": [
    {
     "data": {
      "text/plain": [
       "True"
      ]
     },
     "execution_count": 143,
     "metadata": {},
     "output_type": "execute_result"
    }
   ],
   "source": [
    "duplicates"
   ]
  },
  {
   "cell_type": "code",
   "execution_count": 144,
   "metadata": {},
   "outputs": [
    {
     "data": {
      "text/plain": [
       "{'dixon': {'inPhase': ['temp/inPhase(1)'],\n",
       "  'outPhase': ['temp/outPhase(1)'],\n",
       "  'fat': ['temp/fat(1)'],\n",
       "  'water': ['temp/water(1)']},\n",
       " 'diffusion': {'b50': ['temp/b50(1)'],\n",
       "  'b600': [],\n",
       "  'b900': ['temp/b900(1)', 'temp/b900(2)'],\n",
       "  'adc': ['temp/adc(1)'],\n",
       "  'bvals': []}}"
      ]
     },
     "execution_count": 144,
     "metadata": {},
     "output_type": "execute_result"
    }
   ],
   "source": [
    "{'dixon': {'inPhase': ['temp/inPhase(1)'], 'outPhase': ['temp/outPhase(1)'], 'fat': ['temp/fat(1)'], 'water': ['temp/water(1)']}, 'diffusion': {'b50': ['temp/b50(1)'], 'b600': [], 'b900': ['temp/b900(1)', 'temp/b900(2)'], 'adc': ['temp/adc(1)'], 'bvals': []}}"
   ]
  },
  {
   "cell_type": "code",
   "execution_count": 145,
   "metadata": {},
   "outputs": [],
   "source": [
    "paths = {'dixon': {'inPhase': ['temp/inPhase(1)'], 'outPhase': ['temp/outPhase(1)'], 'fat': ['temp/fat(1)'], 'water': ['temp/water(1)']}, 'diffusion': {'b50': ['temp/b50(1)'], 'b600': [], 'b900': ['temp/b900(1)', 'temp/b900(2)'], 'adc': ['temp/adc(1)'], 'bvals': []}}"
   ]
  },
  {
   "cell_type": "code",
   "execution_count": 146,
   "metadata": {},
   "outputs": [
    {
     "data": {
      "text/plain": [
       "2"
      ]
     },
     "execution_count": 146,
     "metadata": {},
     "output_type": "execute_result"
    }
   ],
   "source": [
    "len(paths)"
   ]
  },
  {
   "cell_type": "code",
   "execution_count": 149,
   "metadata": {},
   "outputs": [],
   "source": [
    "import os\n",
    "import pandas as pd\n",
    "import pydicom"
   ]
  },
  {
   "cell_type": "code",
   "execution_count": 151,
   "metadata": {},
   "outputs": [
    {
     "ename": "KeyError",
     "evalue": "0",
     "output_type": "error",
     "traceback": [
      "\u001b[0;31m---------------------------------------------------------------------------\u001b[0m",
      "\u001b[0;31mKeyError\u001b[0m                                  Traceback (most recent call last)",
      "\u001b[0;32m<ipython-input-151-562011cd7bd9>\u001b[0m in \u001b[0;36m<module>\u001b[0;34m\u001b[0m\n\u001b[1;32m     13\u001b[0m                             \u001b[0mdict1\u001b[0m\u001b[0;34m.\u001b[0m\u001b[0mupdate\u001b[0m\u001b[0;34m(\u001b[0m\u001b[0;34m{\u001b[0m\u001b[0mfield\u001b[0m\u001b[0;34m:\u001b[0m \u001b[0mgetattr\u001b[0m\u001b[0;34m(\u001b[0m\u001b[0mdcm\u001b[0m\u001b[0;34m,\u001b[0m \u001b[0mfield\u001b[0m\u001b[0;34m)\u001b[0m\u001b[0;34m}\u001b[0m\u001b[0;34m)\u001b[0m\u001b[0;34m\u001b[0m\u001b[0;34m\u001b[0m\u001b[0m\n\u001b[1;32m     14\u001b[0m                         \u001b[0mrows\u001b[0m\u001b[0;34m.\u001b[0m\u001b[0mappend\u001b[0m\u001b[0;34m(\u001b[0m\u001b[0mdict1\u001b[0m\u001b[0;34m)\u001b[0m\u001b[0;34m\u001b[0m\u001b[0;34m\u001b[0m\u001b[0m\n\u001b[0;32m---> 15\u001b[0;31m             \u001b[0mlocal_dcms\u001b[0m\u001b[0;34m[\u001b[0m\u001b[0;36m0\u001b[0m\u001b[0;34m]\u001b[0m\u001b[0;34m.\u001b[0m\u001b[0mappend\u001b[0m\u001b[0;34m(\u001b[0m\u001b[0mpd\u001b[0m\u001b[0;34m.\u001b[0m\u001b[0mDataFrame\u001b[0m\u001b[0;34m(\u001b[0m\u001b[0mrows\u001b[0m\u001b[0;34m,\u001b[0m \u001b[0mcolumns\u001b[0m\u001b[0;34m=\u001b[0m\u001b[0mfields\u001b[0m\u001b[0;34m)\u001b[0m\u001b[0;34m)\u001b[0m\u001b[0;34m\u001b[0m\u001b[0;34m\u001b[0m\u001b[0m\n\u001b[0m",
      "\u001b[0;31mKeyError\u001b[0m: 0"
     ]
    }
   ],
   "source": [
    "    fields = ['InstanceNumber', 'SliceLocation', 'Rows', 'Columns', 'SequenceName', 'SeriesNumber']\n",
    "    local_dcms = {}\n",
    "    for group in paths:\n",
    "        for key in paths[group]:\n",
    "            for path in paths[group][key]:\n",
    "                rows = []\n",
    "                for dirName, subdirList, fileList in os.walk(path):\n",
    "                    for filename in fileList:\n",
    "                        if \".dcm\" in filename.lower():\n",
    "                            dict1 = {'FilePath': filename}\n",
    "                            dcm = pydicom.dcmread(os.path.join(dirName, filename), stop_before_pixels=True)\n",
    "                            for field in fields:\n",
    "                                dict1.update({field: getattr(dcm, field)})\n",
    "                            rows.append(dict1)\n",
    "                local_dcms[0].append(pd.DataFrame(rows, columns=fields))\n",
    "                \n",
    "                "
   ]
  },
  {
   "cell_type": "code",
   "execution_count": 153,
   "metadata": {},
   "outputs": [
    {
     "data": {
      "text/plain": [
       "dict_keys(['dixon', 'diffusion'])"
      ]
     },
     "execution_count": 153,
     "metadata": {},
     "output_type": "execute_result"
    }
   ],
   "source": [
    "paths.keys()"
   ]
  },
  {
   "cell_type": "code",
   "execution_count": 155,
   "metadata": {},
   "outputs": [],
   "source": [
    "a = [['i','o','w','f'],['5','6','9','a']]"
   ]
  },
  {
   "cell_type": "code",
   "execution_count": 156,
   "metadata": {},
   "outputs": [
    {
     "name": "stdout",
     "output_type": "stream",
     "text": [
      "i\n",
      "o\n",
      "w\n",
      "f\n",
      "5\n",
      "6\n",
      "9\n",
      "a\n"
     ]
    }
   ],
   "source": [
    "for group in a:\n",
    "    for elem in group:\n",
    "        print(elem)"
   ]
  },
  {
   "cell_type": "code",
   "execution_count": 160,
   "metadata": {},
   "outputs": [],
   "source": [
    "b = []"
   ]
  },
  {
   "cell_type": "code",
   "execution_count": 158,
   "metadata": {},
   "outputs": [],
   "source": [
    "b.append([])"
   ]
  },
  {
   "cell_type": "code",
   "execution_count": 159,
   "metadata": {},
   "outputs": [
    {
     "data": {
      "text/plain": [
       "[[]]"
      ]
     },
     "execution_count": 159,
     "metadata": {},
     "output_type": "execute_result"
    }
   ],
   "source": [
    "b"
   ]
  },
  {
   "cell_type": "code",
   "execution_count": 162,
   "metadata": {},
   "outputs": [],
   "source": [
    "for i, group in enumerate(a):\n",
    "    b.append([])\n",
    "    for elem in group:\n",
    "        b[i].append(elem)\n",
    "        "
   ]
  },
  {
   "cell_type": "code",
   "execution_count": 2,
   "metadata": {},
   "outputs": [],
   "source": [
    "import pandas as pd"
   ]
  },
  {
   "cell_type": "code",
   "execution_count": 21,
   "metadata": {},
   "outputs": [],
   "source": [
    "df = pd.read_csv('example.csv')"
   ]
  },
  {
   "cell_type": "code",
   "execution_count": 22,
   "metadata": {},
   "outputs": [
    {
     "data": {
      "text/html": [
       "<div>\n",
       "<style scoped>\n",
       "    .dataframe tbody tr th:only-of-type {\n",
       "        vertical-align: middle;\n",
       "    }\n",
       "\n",
       "    .dataframe tbody tr th {\n",
       "        vertical-align: top;\n",
       "    }\n",
       "\n",
       "    .dataframe thead th {\n",
       "        text-align: right;\n",
       "    }\n",
       "</style>\n",
       "<table border=\"1\" class=\"dataframe\">\n",
       "  <thead>\n",
       "    <tr style=\"text-align: right;\">\n",
       "      <th></th>\n",
       "      <th>InstanceNumber</th>\n",
       "      <th>SliceLocation</th>\n",
       "      <th>Rows</th>\n",
       "      <th>Columns</th>\n",
       "      <th>SequenceName</th>\n",
       "      <th>SeriesNumber</th>\n",
       "    </tr>\n",
       "  </thead>\n",
       "  <tbody>\n",
       "    <tr>\n",
       "      <th>0</th>\n",
       "      <td>201</td>\n",
       "      <td>-979.714127</td>\n",
       "      <td>416</td>\n",
       "      <td>512</td>\n",
       "      <td>*fl3d2</td>\n",
       "      <td>53</td>\n",
       "    </tr>\n",
       "    <tr>\n",
       "      <th>1</th>\n",
       "      <td>202</td>\n",
       "      <td>-974.714127</td>\n",
       "      <td>416</td>\n",
       "      <td>512</td>\n",
       "      <td>*fl3d2</td>\n",
       "      <td>53</td>\n",
       "    </tr>\n",
       "    <tr>\n",
       "      <th>2</th>\n",
       "      <td>203</td>\n",
       "      <td>-969.714127</td>\n",
       "      <td>416</td>\n",
       "      <td>512</td>\n",
       "      <td>*fl3d2</td>\n",
       "      <td>53</td>\n",
       "    </tr>\n",
       "    <tr>\n",
       "      <th>3</th>\n",
       "      <td>204</td>\n",
       "      <td>-964.714127</td>\n",
       "      <td>416</td>\n",
       "      <td>512</td>\n",
       "      <td>*fl3d2</td>\n",
       "      <td>53</td>\n",
       "    </tr>\n",
       "    <tr>\n",
       "      <th>4</th>\n",
       "      <td>205</td>\n",
       "      <td>-959.714127</td>\n",
       "      <td>416</td>\n",
       "      <td>512</td>\n",
       "      <td>*fl3d2</td>\n",
       "      <td>53</td>\n",
       "    </tr>\n",
       "  </tbody>\n",
       "</table>\n",
       "</div>"
      ],
      "text/plain": [
       "   InstanceNumber  SliceLocation  Rows  Columns SequenceName  SeriesNumber\n",
       "0             201    -979.714127   416      512       *fl3d2            53\n",
       "1             202    -974.714127   416      512       *fl3d2            53\n",
       "2             203    -969.714127   416      512       *fl3d2            53\n",
       "3             204    -964.714127   416      512       *fl3d2            53\n",
       "4             205    -959.714127   416      512       *fl3d2            53"
      ]
     },
     "execution_count": 22,
     "metadata": {},
     "output_type": "execute_result"
    }
   ],
   "source": [
    "df.head()"
   ]
  },
  {
   "cell_type": "code",
   "execution_count": 31,
   "metadata": {},
   "outputs": [
    {
     "data": {
      "text/plain": [
       "True"
      ]
     },
     "execution_count": 31,
     "metadata": {},
     "output_type": "execute_result"
    }
   ],
   "source": [
    "not df['InstanceNumber'].is_monotonic"
   ]
  },
  {
   "cell_type": "code",
   "execution_count": 9,
   "metadata": {},
   "outputs": [],
   "source": [
    "df.reset_index(drop=True,inplace=True)"
   ]
  },
  {
   "cell_type": "code",
   "execution_count": 11,
   "metadata": {},
   "outputs": [],
   "source": [
    "df['InstanceNumber'] = df.index + 1"
   ]
  },
  {
   "cell_type": "code",
   "execution_count": 12,
   "metadata": {
    "scrolled": true
   },
   "outputs": [
    {
     "data": {
      "text/html": [
       "<div>\n",
       "<style scoped>\n",
       "    .dataframe tbody tr th:only-of-type {\n",
       "        vertical-align: middle;\n",
       "    }\n",
       "\n",
       "    .dataframe tbody tr th {\n",
       "        vertical-align: top;\n",
       "    }\n",
       "\n",
       "    .dataframe thead th {\n",
       "        text-align: right;\n",
       "    }\n",
       "</style>\n",
       "<table border=\"1\" class=\"dataframe\">\n",
       "  <thead>\n",
       "    <tr style=\"text-align: right;\">\n",
       "      <th></th>\n",
       "      <th>InstanceNumber</th>\n",
       "      <th>SliceLocation</th>\n",
       "      <th>Rows</th>\n",
       "      <th>Columns</th>\n",
       "      <th>SequenceName</th>\n",
       "      <th>SeriesNumber</th>\n",
       "    </tr>\n",
       "  </thead>\n",
       "  <tbody>\n",
       "    <tr>\n",
       "      <th>0</th>\n",
       "      <td>1</td>\n",
       "      <td>-979.714127</td>\n",
       "      <td>416</td>\n",
       "      <td>512</td>\n",
       "      <td>*fl3d2</td>\n",
       "      <td>53</td>\n",
       "    </tr>\n",
       "    <tr>\n",
       "      <th>1</th>\n",
       "      <td>2</td>\n",
       "      <td>-974.714127</td>\n",
       "      <td>416</td>\n",
       "      <td>512</td>\n",
       "      <td>*fl3d2</td>\n",
       "      <td>53</td>\n",
       "    </tr>\n",
       "    <tr>\n",
       "      <th>2</th>\n",
       "      <td>3</td>\n",
       "      <td>-969.714127</td>\n",
       "      <td>416</td>\n",
       "      <td>512</td>\n",
       "      <td>*fl3d2</td>\n",
       "      <td>53</td>\n",
       "    </tr>\n",
       "    <tr>\n",
       "      <th>3</th>\n",
       "      <td>4</td>\n",
       "      <td>-964.714127</td>\n",
       "      <td>416</td>\n",
       "      <td>512</td>\n",
       "      <td>*fl3d2</td>\n",
       "      <td>53</td>\n",
       "    </tr>\n",
       "    <tr>\n",
       "      <th>4</th>\n",
       "      <td>5</td>\n",
       "      <td>-959.714127</td>\n",
       "      <td>416</td>\n",
       "      <td>512</td>\n",
       "      <td>*fl3d2</td>\n",
       "      <td>53</td>\n",
       "    </tr>\n",
       "    <tr>\n",
       "      <th>5</th>\n",
       "      <td>6</td>\n",
       "      <td>-954.714127</td>\n",
       "      <td>416</td>\n",
       "      <td>512</td>\n",
       "      <td>*fl3d2</td>\n",
       "      <td>53</td>\n",
       "    </tr>\n",
       "    <tr>\n",
       "      <th>6</th>\n",
       "      <td>7</td>\n",
       "      <td>-949.714127</td>\n",
       "      <td>416</td>\n",
       "      <td>512</td>\n",
       "      <td>*fl3d2</td>\n",
       "      <td>53</td>\n",
       "    </tr>\n",
       "    <tr>\n",
       "      <th>7</th>\n",
       "      <td>8</td>\n",
       "      <td>-944.714127</td>\n",
       "      <td>416</td>\n",
       "      <td>512</td>\n",
       "      <td>*fl3d2</td>\n",
       "      <td>53</td>\n",
       "    </tr>\n",
       "    <tr>\n",
       "      <th>8</th>\n",
       "      <td>9</td>\n",
       "      <td>-939.714127</td>\n",
       "      <td>416</td>\n",
       "      <td>512</td>\n",
       "      <td>*fl3d2</td>\n",
       "      <td>53</td>\n",
       "    </tr>\n",
       "    <tr>\n",
       "      <th>9</th>\n",
       "      <td>10</td>\n",
       "      <td>-934.714127</td>\n",
       "      <td>416</td>\n",
       "      <td>512</td>\n",
       "      <td>*fl3d2</td>\n",
       "      <td>53</td>\n",
       "    </tr>\n",
       "    <tr>\n",
       "      <th>10</th>\n",
       "      <td>11</td>\n",
       "      <td>-929.714127</td>\n",
       "      <td>416</td>\n",
       "      <td>512</td>\n",
       "      <td>*fl3d2</td>\n",
       "      <td>53</td>\n",
       "    </tr>\n",
       "    <tr>\n",
       "      <th>11</th>\n",
       "      <td>12</td>\n",
       "      <td>-924.714127</td>\n",
       "      <td>416</td>\n",
       "      <td>512</td>\n",
       "      <td>*fl3d2</td>\n",
       "      <td>53</td>\n",
       "    </tr>\n",
       "    <tr>\n",
       "      <th>12</th>\n",
       "      <td>13</td>\n",
       "      <td>-919.714127</td>\n",
       "      <td>416</td>\n",
       "      <td>512</td>\n",
       "      <td>*fl3d2</td>\n",
       "      <td>53</td>\n",
       "    </tr>\n",
       "    <tr>\n",
       "      <th>13</th>\n",
       "      <td>14</td>\n",
       "      <td>-914.714127</td>\n",
       "      <td>416</td>\n",
       "      <td>512</td>\n",
       "      <td>*fl3d2</td>\n",
       "      <td>53</td>\n",
       "    </tr>\n",
       "    <tr>\n",
       "      <th>14</th>\n",
       "      <td>15</td>\n",
       "      <td>-909.714127</td>\n",
       "      <td>416</td>\n",
       "      <td>512</td>\n",
       "      <td>*fl3d2</td>\n",
       "      <td>53</td>\n",
       "    </tr>\n",
       "    <tr>\n",
       "      <th>15</th>\n",
       "      <td>16</td>\n",
       "      <td>-904.714127</td>\n",
       "      <td>416</td>\n",
       "      <td>512</td>\n",
       "      <td>*fl3d2</td>\n",
       "      <td>53</td>\n",
       "    </tr>\n",
       "    <tr>\n",
       "      <th>16</th>\n",
       "      <td>17</td>\n",
       "      <td>-899.714127</td>\n",
       "      <td>416</td>\n",
       "      <td>512</td>\n",
       "      <td>*fl3d2</td>\n",
       "      <td>53</td>\n",
       "    </tr>\n",
       "    <tr>\n",
       "      <th>17</th>\n",
       "      <td>18</td>\n",
       "      <td>-894.714127</td>\n",
       "      <td>416</td>\n",
       "      <td>512</td>\n",
       "      <td>*fl3d2</td>\n",
       "      <td>53</td>\n",
       "    </tr>\n",
       "    <tr>\n",
       "      <th>18</th>\n",
       "      <td>19</td>\n",
       "      <td>-889.714127</td>\n",
       "      <td>416</td>\n",
       "      <td>512</td>\n",
       "      <td>*fl3d2</td>\n",
       "      <td>53</td>\n",
       "    </tr>\n",
       "    <tr>\n",
       "      <th>19</th>\n",
       "      <td>20</td>\n",
       "      <td>-884.714127</td>\n",
       "      <td>416</td>\n",
       "      <td>512</td>\n",
       "      <td>*fl3d2</td>\n",
       "      <td>53</td>\n",
       "    </tr>\n",
       "    <tr>\n",
       "      <th>20</th>\n",
       "      <td>21</td>\n",
       "      <td>-879.714127</td>\n",
       "      <td>416</td>\n",
       "      <td>512</td>\n",
       "      <td>*fl3d2</td>\n",
       "      <td>53</td>\n",
       "    </tr>\n",
       "    <tr>\n",
       "      <th>21</th>\n",
       "      <td>22</td>\n",
       "      <td>-874.714127</td>\n",
       "      <td>416</td>\n",
       "      <td>512</td>\n",
       "      <td>*fl3d2</td>\n",
       "      <td>53</td>\n",
       "    </tr>\n",
       "    <tr>\n",
       "      <th>22</th>\n",
       "      <td>23</td>\n",
       "      <td>-869.714127</td>\n",
       "      <td>416</td>\n",
       "      <td>512</td>\n",
       "      <td>*fl3d2</td>\n",
       "      <td>53</td>\n",
       "    </tr>\n",
       "    <tr>\n",
       "      <th>23</th>\n",
       "      <td>24</td>\n",
       "      <td>-864.714127</td>\n",
       "      <td>416</td>\n",
       "      <td>512</td>\n",
       "      <td>*fl3d2</td>\n",
       "      <td>53</td>\n",
       "    </tr>\n",
       "    <tr>\n",
       "      <th>24</th>\n",
       "      <td>25</td>\n",
       "      <td>-859.714127</td>\n",
       "      <td>416</td>\n",
       "      <td>512</td>\n",
       "      <td>*fl3d2</td>\n",
       "      <td>53</td>\n",
       "    </tr>\n",
       "    <tr>\n",
       "      <th>25</th>\n",
       "      <td>26</td>\n",
       "      <td>-854.714127</td>\n",
       "      <td>416</td>\n",
       "      <td>512</td>\n",
       "      <td>*fl3d2</td>\n",
       "      <td>53</td>\n",
       "    </tr>\n",
       "    <tr>\n",
       "      <th>26</th>\n",
       "      <td>27</td>\n",
       "      <td>-849.714127</td>\n",
       "      <td>416</td>\n",
       "      <td>512</td>\n",
       "      <td>*fl3d2</td>\n",
       "      <td>53</td>\n",
       "    </tr>\n",
       "    <tr>\n",
       "      <th>27</th>\n",
       "      <td>28</td>\n",
       "      <td>-844.714127</td>\n",
       "      <td>416</td>\n",
       "      <td>512</td>\n",
       "      <td>*fl3d2</td>\n",
       "      <td>53</td>\n",
       "    </tr>\n",
       "    <tr>\n",
       "      <th>28</th>\n",
       "      <td>29</td>\n",
       "      <td>-839.714127</td>\n",
       "      <td>416</td>\n",
       "      <td>512</td>\n",
       "      <td>*fl3d2</td>\n",
       "      <td>53</td>\n",
       "    </tr>\n",
       "    <tr>\n",
       "      <th>29</th>\n",
       "      <td>30</td>\n",
       "      <td>-834.714127</td>\n",
       "      <td>416</td>\n",
       "      <td>512</td>\n",
       "      <td>*fl3d2</td>\n",
       "      <td>53</td>\n",
       "    </tr>\n",
       "    <tr>\n",
       "      <th>...</th>\n",
       "      <td>...</td>\n",
       "      <td>...</td>\n",
       "      <td>...</td>\n",
       "      <td>...</td>\n",
       "      <td>...</td>\n",
       "      <td>...</td>\n",
       "    </tr>\n",
       "    <tr>\n",
       "      <th>210</th>\n",
       "      <td>211</td>\n",
       "      <td>70.285873</td>\n",
       "      <td>416</td>\n",
       "      <td>512</td>\n",
       "      <td>*fl3d2</td>\n",
       "      <td>53</td>\n",
       "    </tr>\n",
       "    <tr>\n",
       "      <th>211</th>\n",
       "      <td>212</td>\n",
       "      <td>75.285873</td>\n",
       "      <td>416</td>\n",
       "      <td>512</td>\n",
       "      <td>*fl3d2</td>\n",
       "      <td>53</td>\n",
       "    </tr>\n",
       "    <tr>\n",
       "      <th>212</th>\n",
       "      <td>213</td>\n",
       "      <td>80.285873</td>\n",
       "      <td>416</td>\n",
       "      <td>512</td>\n",
       "      <td>*fl3d2</td>\n",
       "      <td>53</td>\n",
       "    </tr>\n",
       "    <tr>\n",
       "      <th>213</th>\n",
       "      <td>214</td>\n",
       "      <td>85.285873</td>\n",
       "      <td>416</td>\n",
       "      <td>512</td>\n",
       "      <td>*fl3d2</td>\n",
       "      <td>53</td>\n",
       "    </tr>\n",
       "    <tr>\n",
       "      <th>214</th>\n",
       "      <td>215</td>\n",
       "      <td>90.285873</td>\n",
       "      <td>416</td>\n",
       "      <td>512</td>\n",
       "      <td>*fl3d2</td>\n",
       "      <td>53</td>\n",
       "    </tr>\n",
       "    <tr>\n",
       "      <th>215</th>\n",
       "      <td>216</td>\n",
       "      <td>95.285873</td>\n",
       "      <td>416</td>\n",
       "      <td>512</td>\n",
       "      <td>*fl3d2</td>\n",
       "      <td>53</td>\n",
       "    </tr>\n",
       "    <tr>\n",
       "      <th>216</th>\n",
       "      <td>217</td>\n",
       "      <td>100.285873</td>\n",
       "      <td>416</td>\n",
       "      <td>512</td>\n",
       "      <td>*fl3d2</td>\n",
       "      <td>53</td>\n",
       "    </tr>\n",
       "    <tr>\n",
       "      <th>217</th>\n",
       "      <td>218</td>\n",
       "      <td>105.285873</td>\n",
       "      <td>416</td>\n",
       "      <td>512</td>\n",
       "      <td>*fl3d2</td>\n",
       "      <td>53</td>\n",
       "    </tr>\n",
       "    <tr>\n",
       "      <th>218</th>\n",
       "      <td>219</td>\n",
       "      <td>110.285873</td>\n",
       "      <td>416</td>\n",
       "      <td>512</td>\n",
       "      <td>*fl3d2</td>\n",
       "      <td>53</td>\n",
       "    </tr>\n",
       "    <tr>\n",
       "      <th>219</th>\n",
       "      <td>220</td>\n",
       "      <td>115.285873</td>\n",
       "      <td>416</td>\n",
       "      <td>512</td>\n",
       "      <td>*fl3d2</td>\n",
       "      <td>53</td>\n",
       "    </tr>\n",
       "    <tr>\n",
       "      <th>220</th>\n",
       "      <td>221</td>\n",
       "      <td>120.285873</td>\n",
       "      <td>416</td>\n",
       "      <td>512</td>\n",
       "      <td>*fl3d2</td>\n",
       "      <td>53</td>\n",
       "    </tr>\n",
       "    <tr>\n",
       "      <th>221</th>\n",
       "      <td>222</td>\n",
       "      <td>125.285873</td>\n",
       "      <td>416</td>\n",
       "      <td>512</td>\n",
       "      <td>*fl3d2</td>\n",
       "      <td>53</td>\n",
       "    </tr>\n",
       "    <tr>\n",
       "      <th>222</th>\n",
       "      <td>223</td>\n",
       "      <td>130.285873</td>\n",
       "      <td>416</td>\n",
       "      <td>512</td>\n",
       "      <td>*fl3d2</td>\n",
       "      <td>53</td>\n",
       "    </tr>\n",
       "    <tr>\n",
       "      <th>223</th>\n",
       "      <td>224</td>\n",
       "      <td>135.285873</td>\n",
       "      <td>416</td>\n",
       "      <td>512</td>\n",
       "      <td>*fl3d2</td>\n",
       "      <td>53</td>\n",
       "    </tr>\n",
       "    <tr>\n",
       "      <th>224</th>\n",
       "      <td>225</td>\n",
       "      <td>140.285873</td>\n",
       "      <td>416</td>\n",
       "      <td>512</td>\n",
       "      <td>*fl3d2</td>\n",
       "      <td>53</td>\n",
       "    </tr>\n",
       "    <tr>\n",
       "      <th>225</th>\n",
       "      <td>226</td>\n",
       "      <td>145.285873</td>\n",
       "      <td>416</td>\n",
       "      <td>512</td>\n",
       "      <td>*fl3d2</td>\n",
       "      <td>53</td>\n",
       "    </tr>\n",
       "    <tr>\n",
       "      <th>226</th>\n",
       "      <td>227</td>\n",
       "      <td>150.285873</td>\n",
       "      <td>416</td>\n",
       "      <td>512</td>\n",
       "      <td>*fl3d2</td>\n",
       "      <td>53</td>\n",
       "    </tr>\n",
       "    <tr>\n",
       "      <th>227</th>\n",
       "      <td>228</td>\n",
       "      <td>155.285873</td>\n",
       "      <td>416</td>\n",
       "      <td>512</td>\n",
       "      <td>*fl3d2</td>\n",
       "      <td>53</td>\n",
       "    </tr>\n",
       "    <tr>\n",
       "      <th>228</th>\n",
       "      <td>229</td>\n",
       "      <td>160.285873</td>\n",
       "      <td>416</td>\n",
       "      <td>512</td>\n",
       "      <td>*fl3d2</td>\n",
       "      <td>53</td>\n",
       "    </tr>\n",
       "    <tr>\n",
       "      <th>229</th>\n",
       "      <td>230</td>\n",
       "      <td>165.285873</td>\n",
       "      <td>416</td>\n",
       "      <td>512</td>\n",
       "      <td>*fl3d2</td>\n",
       "      <td>53</td>\n",
       "    </tr>\n",
       "    <tr>\n",
       "      <th>230</th>\n",
       "      <td>231</td>\n",
       "      <td>170.285873</td>\n",
       "      <td>416</td>\n",
       "      <td>512</td>\n",
       "      <td>*fl3d2</td>\n",
       "      <td>53</td>\n",
       "    </tr>\n",
       "    <tr>\n",
       "      <th>231</th>\n",
       "      <td>232</td>\n",
       "      <td>175.285873</td>\n",
       "      <td>416</td>\n",
       "      <td>512</td>\n",
       "      <td>*fl3d2</td>\n",
       "      <td>53</td>\n",
       "    </tr>\n",
       "    <tr>\n",
       "      <th>232</th>\n",
       "      <td>233</td>\n",
       "      <td>180.285873</td>\n",
       "      <td>416</td>\n",
       "      <td>512</td>\n",
       "      <td>*fl3d2</td>\n",
       "      <td>53</td>\n",
       "    </tr>\n",
       "    <tr>\n",
       "      <th>233</th>\n",
       "      <td>234</td>\n",
       "      <td>185.285873</td>\n",
       "      <td>416</td>\n",
       "      <td>512</td>\n",
       "      <td>*fl3d2</td>\n",
       "      <td>53</td>\n",
       "    </tr>\n",
       "    <tr>\n",
       "      <th>234</th>\n",
       "      <td>235</td>\n",
       "      <td>190.285873</td>\n",
       "      <td>416</td>\n",
       "      <td>512</td>\n",
       "      <td>*fl3d2</td>\n",
       "      <td>53</td>\n",
       "    </tr>\n",
       "    <tr>\n",
       "      <th>235</th>\n",
       "      <td>236</td>\n",
       "      <td>195.285873</td>\n",
       "      <td>416</td>\n",
       "      <td>512</td>\n",
       "      <td>*fl3d2</td>\n",
       "      <td>53</td>\n",
       "    </tr>\n",
       "    <tr>\n",
       "      <th>236</th>\n",
       "      <td>237</td>\n",
       "      <td>200.285873</td>\n",
       "      <td>416</td>\n",
       "      <td>512</td>\n",
       "      <td>*fl3d2</td>\n",
       "      <td>53</td>\n",
       "    </tr>\n",
       "    <tr>\n",
       "      <th>237</th>\n",
       "      <td>238</td>\n",
       "      <td>205.285873</td>\n",
       "      <td>416</td>\n",
       "      <td>512</td>\n",
       "      <td>*fl3d2</td>\n",
       "      <td>53</td>\n",
       "    </tr>\n",
       "    <tr>\n",
       "      <th>238</th>\n",
       "      <td>239</td>\n",
       "      <td>210.285873</td>\n",
       "      <td>416</td>\n",
       "      <td>512</td>\n",
       "      <td>*fl3d2</td>\n",
       "      <td>53</td>\n",
       "    </tr>\n",
       "    <tr>\n",
       "      <th>239</th>\n",
       "      <td>240</td>\n",
       "      <td>215.285873</td>\n",
       "      <td>416</td>\n",
       "      <td>512</td>\n",
       "      <td>*fl3d2</td>\n",
       "      <td>53</td>\n",
       "    </tr>\n",
       "  </tbody>\n",
       "</table>\n",
       "<p>240 rows × 6 columns</p>\n",
       "</div>"
      ],
      "text/plain": [
       "     InstanceNumber  SliceLocation  Rows  Columns SequenceName  SeriesNumber\n",
       "0                 1    -979.714127   416      512       *fl3d2            53\n",
       "1                 2    -974.714127   416      512       *fl3d2            53\n",
       "2                 3    -969.714127   416      512       *fl3d2            53\n",
       "3                 4    -964.714127   416      512       *fl3d2            53\n",
       "4                 5    -959.714127   416      512       *fl3d2            53\n",
       "5                 6    -954.714127   416      512       *fl3d2            53\n",
       "6                 7    -949.714127   416      512       *fl3d2            53\n",
       "7                 8    -944.714127   416      512       *fl3d2            53\n",
       "8                 9    -939.714127   416      512       *fl3d2            53\n",
       "9                10    -934.714127   416      512       *fl3d2            53\n",
       "10               11    -929.714127   416      512       *fl3d2            53\n",
       "11               12    -924.714127   416      512       *fl3d2            53\n",
       "12               13    -919.714127   416      512       *fl3d2            53\n",
       "13               14    -914.714127   416      512       *fl3d2            53\n",
       "14               15    -909.714127   416      512       *fl3d2            53\n",
       "15               16    -904.714127   416      512       *fl3d2            53\n",
       "16               17    -899.714127   416      512       *fl3d2            53\n",
       "17               18    -894.714127   416      512       *fl3d2            53\n",
       "18               19    -889.714127   416      512       *fl3d2            53\n",
       "19               20    -884.714127   416      512       *fl3d2            53\n",
       "20               21    -879.714127   416      512       *fl3d2            53\n",
       "21               22    -874.714127   416      512       *fl3d2            53\n",
       "22               23    -869.714127   416      512       *fl3d2            53\n",
       "23               24    -864.714127   416      512       *fl3d2            53\n",
       "24               25    -859.714127   416      512       *fl3d2            53\n",
       "25               26    -854.714127   416      512       *fl3d2            53\n",
       "26               27    -849.714127   416      512       *fl3d2            53\n",
       "27               28    -844.714127   416      512       *fl3d2            53\n",
       "28               29    -839.714127   416      512       *fl3d2            53\n",
       "29               30    -834.714127   416      512       *fl3d2            53\n",
       "..              ...            ...   ...      ...          ...           ...\n",
       "210             211      70.285873   416      512       *fl3d2            53\n",
       "211             212      75.285873   416      512       *fl3d2            53\n",
       "212             213      80.285873   416      512       *fl3d2            53\n",
       "213             214      85.285873   416      512       *fl3d2            53\n",
       "214             215      90.285873   416      512       *fl3d2            53\n",
       "215             216      95.285873   416      512       *fl3d2            53\n",
       "216             217     100.285873   416      512       *fl3d2            53\n",
       "217             218     105.285873   416      512       *fl3d2            53\n",
       "218             219     110.285873   416      512       *fl3d2            53\n",
       "219             220     115.285873   416      512       *fl3d2            53\n",
       "220             221     120.285873   416      512       *fl3d2            53\n",
       "221             222     125.285873   416      512       *fl3d2            53\n",
       "222             223     130.285873   416      512       *fl3d2            53\n",
       "223             224     135.285873   416      512       *fl3d2            53\n",
       "224             225     140.285873   416      512       *fl3d2            53\n",
       "225             226     145.285873   416      512       *fl3d2            53\n",
       "226             227     150.285873   416      512       *fl3d2            53\n",
       "227             228     155.285873   416      512       *fl3d2            53\n",
       "228             229     160.285873   416      512       *fl3d2            53\n",
       "229             230     165.285873   416      512       *fl3d2            53\n",
       "230             231     170.285873   416      512       *fl3d2            53\n",
       "231             232     175.285873   416      512       *fl3d2            53\n",
       "232             233     180.285873   416      512       *fl3d2            53\n",
       "233             234     185.285873   416      512       *fl3d2            53\n",
       "234             235     190.285873   416      512       *fl3d2            53\n",
       "235             236     195.285873   416      512       *fl3d2            53\n",
       "236             237     200.285873   416      512       *fl3d2            53\n",
       "237             238     205.285873   416      512       *fl3d2            53\n",
       "238             239     210.285873   416      512       *fl3d2            53\n",
       "239             240     215.285873   416      512       *fl3d2            53\n",
       "\n",
       "[240 rows x 6 columns]"
      ]
     },
     "execution_count": 12,
     "metadata": {},
     "output_type": "execute_result"
    }
   ],
   "source": [
    "df"
   ]
  },
  {
   "cell_type": "code",
   "execution_count": 18,
   "metadata": {},
   "outputs": [],
   "source": [
    "a = 5"
   ]
  },
  {
   "cell_type": "code",
   "execution_count": 19,
   "metadata": {},
   "outputs": [],
   "source": [
    "a += 1"
   ]
  },
  {
   "cell_type": "code",
   "execution_count": 20,
   "metadata": {},
   "outputs": [
    {
     "data": {
      "text/plain": [
       "6"
      ]
     },
     "execution_count": 20,
     "metadata": {},
     "output_type": "execute_result"
    }
   ],
   "source": [
    "a"
   ]
  },
  {
   "cell_type": "code",
   "execution_count": 33,
   "metadata": {},
   "outputs": [],
   "source": [
    "dict1 = {'FilePath': 'boop'}"
   ]
  },
  {
   "cell_type": "code",
   "execution_count": 34,
   "metadata": {},
   "outputs": [
    {
     "data": {
      "text/plain": [
       "{'FilePath': 'boop'}"
      ]
     },
     "execution_count": 34,
     "metadata": {},
     "output_type": "execute_result"
    }
   ],
   "source": [
    "dict1"
   ]
  },
  {
   "cell_type": "code",
   "execution_count": 35,
   "metadata": {},
   "outputs": [],
   "source": [
    "dict1.update({'InstanceNumber': 6})"
   ]
  },
  {
   "cell_type": "code",
   "execution_count": 36,
   "metadata": {},
   "outputs": [
    {
     "data": {
      "text/plain": [
       "{'FilePath': 'boop', 'InstanceNumber': 6}"
      ]
     },
     "execution_count": 36,
     "metadata": {},
     "output_type": "execute_result"
    }
   ],
   "source": [
    "dict1"
   ]
  },
  {
   "cell_type": "code",
   "execution_count": 38,
   "metadata": {},
   "outputs": [],
   "source": [
    "dict1.update({'FileWhack':'ehe/egaeh/ehe/'})"
   ]
  },
  {
   "cell_type": "code",
   "execution_count": 39,
   "metadata": {},
   "outputs": [
    {
     "data": {
      "text/plain": [
       "{'FilePath': 'boop', 'InstanceNumber': 6, 'FileWhack': 'ehe/egaeh/ehe/'}"
      ]
     },
     "execution_count": 39,
     "metadata": {},
     "output_type": "execute_result"
    }
   ],
   "source": [
    "dict1"
   ]
  },
  {
   "cell_type": "code",
   "execution_count": 41,
   "metadata": {},
   "outputs": [
    {
     "data": {
      "text/html": [
       "<div>\n",
       "<style scoped>\n",
       "    .dataframe tbody tr th:only-of-type {\n",
       "        vertical-align: middle;\n",
       "    }\n",
       "\n",
       "    .dataframe tbody tr th {\n",
       "        vertical-align: top;\n",
       "    }\n",
       "\n",
       "    .dataframe thead th {\n",
       "        text-align: right;\n",
       "    }\n",
       "</style>\n",
       "<table border=\"1\" class=\"dataframe\">\n",
       "  <thead>\n",
       "    <tr style=\"text-align: right;\">\n",
       "      <th></th>\n",
       "      <th>FilePath</th>\n",
       "      <th>FileWhack</th>\n",
       "      <th>InstanceNumber</th>\n",
       "    </tr>\n",
       "  </thead>\n",
       "  <tbody>\n",
       "    <tr>\n",
       "      <th>0</th>\n",
       "      <td>boop</td>\n",
       "      <td>ehe/egaeh/ehe/</td>\n",
       "      <td>6</td>\n",
       "    </tr>\n",
       "  </tbody>\n",
       "</table>\n",
       "</div>"
      ],
      "text/plain": [
       "  FilePath       FileWhack  InstanceNumber\n",
       "0     boop  ehe/egaeh/ehe/               6"
      ]
     },
     "execution_count": 41,
     "metadata": {},
     "output_type": "execute_result"
    }
   ],
   "source": [
    "pd.DataFrame([dict1])"
   ]
  },
  {
   "cell_type": "code",
   "execution_count": 42,
   "metadata": {},
   "outputs": [],
   "source": [
    "import pydicom"
   ]
  },
  {
   "cell_type": "code",
   "execution_count": 43,
   "metadata": {},
   "outputs": [],
   "source": [
    "path = 'temp/inPhase(1)/20181215_152525_Avanto/scans/51-T1_IP/resources/DICOM/files/1.2.840.113564.9.1.2843759204.47.2.5001567892-51-1-x7zcbl.dcm'"
   ]
  },
  {
   "cell_type": "code",
   "execution_count": 50,
   "metadata": {},
   "outputs": [],
   "source": [
    "ds = pydicom.dcmread(path)"
   ]
  },
  {
   "cell_type": "code",
   "execution_count": 51,
   "metadata": {},
   "outputs": [],
   "source": [
    "ds.InstanceNumber = 15"
   ]
  },
  {
   "cell_type": "code",
   "execution_count": 52,
   "metadata": {},
   "outputs": [],
   "source": [
    "ds.save_as('temp/reee.dcm')"
   ]
  },
  {
   "cell_type": "code",
   "execution_count": 54,
   "metadata": {},
   "outputs": [],
   "source": [
    "import pandas as pd\n",
    "import numpy as np\n",
    "\n",
    "df = pd.DataFrame([{'c1':10, 'c2':100}, {'c1':11,'c2':110}, {'c1':12,'c2':120}])"
   ]
  },
  {
   "cell_type": "code",
   "execution_count": 59,
   "metadata": {},
   "outputs": [
    {
     "ename": "ValueError",
     "evalue": "too many values to unpack (expected 2)",
     "output_type": "error",
     "traceback": [
      "\u001b[0;31m---------------------------------------------------------------------------\u001b[0m",
      "\u001b[0;31mValueError\u001b[0m                                Traceback (most recent call last)",
      "\u001b[0;32m<ipython-input-59-4b07f0b5920a>\u001b[0m in \u001b[0;36m<module>\u001b[0;34m\u001b[0m\n\u001b[0;32m----> 1\u001b[0;31m \u001b[0;32mfor\u001b[0m \u001b[0mindex\u001b[0m\u001b[0;34m,\u001b[0m \u001b[0mrow\u001b[0m \u001b[0;32min\u001b[0m \u001b[0mdf\u001b[0m\u001b[0;34m.\u001b[0m\u001b[0mitertuples\u001b[0m\u001b[0;34m(\u001b[0m\u001b[0;34m)\u001b[0m\u001b[0;34m:\u001b[0m\u001b[0;34m\u001b[0m\u001b[0;34m\u001b[0m\u001b[0m\n\u001b[0m\u001b[1;32m      2\u001b[0m     \u001b[0mprint\u001b[0m\u001b[0;34m(\u001b[0m\u001b[0mrow\u001b[0m\u001b[0;34m[\u001b[0m\u001b[0;34m'c1'\u001b[0m\u001b[0;34m]\u001b[0m\u001b[0;34m,\u001b[0m \u001b[0mrow\u001b[0m\u001b[0;34m[\u001b[0m\u001b[0;34m'c2'\u001b[0m\u001b[0;34m]\u001b[0m\u001b[0;34m)\u001b[0m\u001b[0;34m\u001b[0m\u001b[0;34m\u001b[0m\u001b[0m\n",
      "\u001b[0;31mValueError\u001b[0m: too many values to unpack (expected 2)"
     ]
    }
   ],
   "source": [
    "for index, row in df.itertuples():\n",
    "    print(row['c1'], row['c2'])"
   ]
  },
  {
   "cell_type": "code",
   "execution_count": 73,
   "metadata": {},
   "outputs": [],
   "source": [
    "df = pd.read_csv('example.csv')"
   ]
  },
  {
   "cell_type": "code",
   "execution_count": 74,
   "metadata": {},
   "outputs": [
    {
     "data": {
      "text/plain": [
       "Index(['Columns', 'InstanceNumber', 'Rows', 'SequenceName', 'SeriesNumber',\n",
       "       'SliceLocation', 'path'],\n",
       "      dtype='object')"
      ]
     },
     "execution_count": 74,
     "metadata": {},
     "output_type": "execute_result"
    }
   ],
   "source": [
    "df.columns"
   ]
  },
  {
   "cell_type": "code",
   "execution_count": 67,
   "metadata": {},
   "outputs": [],
   "source": [
    "def myfunc(path,instance_number):\n",
    "    ds = pydicom.dcmread(path)\n",
    "    ds.InstanceNumber = instance_number\n",
    "    #ds.save_as(path)   \n",
    "    "
   ]
  },
  {
   "cell_type": "code",
   "execution_count": 85,
   "metadata": {
    "scrolled": true
   },
   "outputs": [
    {
     "data": {
      "text/html": [
       "<div>\n",
       "<style scoped>\n",
       "    .dataframe tbody tr th:only-of-type {\n",
       "        vertical-align: middle;\n",
       "    }\n",
       "\n",
       "    .dataframe tbody tr th {\n",
       "        vertical-align: top;\n",
       "    }\n",
       "\n",
       "    .dataframe thead th {\n",
       "        text-align: right;\n",
       "    }\n",
       "</style>\n",
       "<table border=\"1\" class=\"dataframe\">\n",
       "  <thead>\n",
       "    <tr style=\"text-align: right;\">\n",
       "      <th></th>\n",
       "      <th>InstanceNumber</th>\n",
       "      <th>path</th>\n",
       "    </tr>\n",
       "  </thead>\n",
       "  <tbody>\n",
       "    <tr>\n",
       "      <th>0</th>\n",
       "      <td>1</td>\n",
       "      <td>temp/inPhase(1)/20181215_152525_Avanto/scans/5...</td>\n",
       "    </tr>\n",
       "    <tr>\n",
       "      <th>1</th>\n",
       "      <td>2</td>\n",
       "      <td>temp/inPhase(1)/20181215_152525_Avanto/scans/5...</td>\n",
       "    </tr>\n",
       "    <tr>\n",
       "      <th>2</th>\n",
       "      <td>3</td>\n",
       "      <td>temp/inPhase(1)/20181215_152525_Avanto/scans/5...</td>\n",
       "    </tr>\n",
       "    <tr>\n",
       "      <th>3</th>\n",
       "      <td>4</td>\n",
       "      <td>temp/inPhase(1)/20181215_152525_Avanto/scans/5...</td>\n",
       "    </tr>\n",
       "    <tr>\n",
       "      <th>4</th>\n",
       "      <td>5</td>\n",
       "      <td>temp/inPhase(1)/20181215_152525_Avanto/scans/5...</td>\n",
       "    </tr>\n",
       "    <tr>\n",
       "      <th>5</th>\n",
       "      <td>6</td>\n",
       "      <td>temp/inPhase(1)/20181215_152525_Avanto/scans/5...</td>\n",
       "    </tr>\n",
       "    <tr>\n",
       "      <th>6</th>\n",
       "      <td>7</td>\n",
       "      <td>temp/inPhase(1)/20181215_152525_Avanto/scans/5...</td>\n",
       "    </tr>\n",
       "    <tr>\n",
       "      <th>7</th>\n",
       "      <td>8</td>\n",
       "      <td>temp/inPhase(1)/20181215_152525_Avanto/scans/5...</td>\n",
       "    </tr>\n",
       "    <tr>\n",
       "      <th>8</th>\n",
       "      <td>9</td>\n",
       "      <td>temp/inPhase(1)/20181215_152525_Avanto/scans/5...</td>\n",
       "    </tr>\n",
       "    <tr>\n",
       "      <th>9</th>\n",
       "      <td>10</td>\n",
       "      <td>temp/inPhase(1)/20181215_152525_Avanto/scans/5...</td>\n",
       "    </tr>\n",
       "    <tr>\n",
       "      <th>10</th>\n",
       "      <td>11</td>\n",
       "      <td>temp/inPhase(1)/20181215_152525_Avanto/scans/5...</td>\n",
       "    </tr>\n",
       "    <tr>\n",
       "      <th>11</th>\n",
       "      <td>12</td>\n",
       "      <td>temp/inPhase(1)/20181215_152525_Avanto/scans/5...</td>\n",
       "    </tr>\n",
       "    <tr>\n",
       "      <th>12</th>\n",
       "      <td>13</td>\n",
       "      <td>temp/inPhase(1)/20181215_152525_Avanto/scans/5...</td>\n",
       "    </tr>\n",
       "    <tr>\n",
       "      <th>13</th>\n",
       "      <td>14</td>\n",
       "      <td>temp/inPhase(1)/20181215_152525_Avanto/scans/5...</td>\n",
       "    </tr>\n",
       "    <tr>\n",
       "      <th>14</th>\n",
       "      <td>15</td>\n",
       "      <td>temp/inPhase(1)/20181215_152525_Avanto/scans/5...</td>\n",
       "    </tr>\n",
       "    <tr>\n",
       "      <th>15</th>\n",
       "      <td>16</td>\n",
       "      <td>temp/inPhase(1)/20181215_152525_Avanto/scans/5...</td>\n",
       "    </tr>\n",
       "    <tr>\n",
       "      <th>16</th>\n",
       "      <td>17</td>\n",
       "      <td>temp/inPhase(1)/20181215_152525_Avanto/scans/5...</td>\n",
       "    </tr>\n",
       "    <tr>\n",
       "      <th>17</th>\n",
       "      <td>18</td>\n",
       "      <td>temp/inPhase(1)/20181215_152525_Avanto/scans/5...</td>\n",
       "    </tr>\n",
       "    <tr>\n",
       "      <th>18</th>\n",
       "      <td>19</td>\n",
       "      <td>temp/inPhase(1)/20181215_152525_Avanto/scans/5...</td>\n",
       "    </tr>\n",
       "    <tr>\n",
       "      <th>19</th>\n",
       "      <td>20</td>\n",
       "      <td>temp/inPhase(1)/20181215_152525_Avanto/scans/5...</td>\n",
       "    </tr>\n",
       "    <tr>\n",
       "      <th>20</th>\n",
       "      <td>21</td>\n",
       "      <td>temp/inPhase(1)/20181215_152525_Avanto/scans/5...</td>\n",
       "    </tr>\n",
       "    <tr>\n",
       "      <th>21</th>\n",
       "      <td>22</td>\n",
       "      <td>temp/inPhase(1)/20181215_152525_Avanto/scans/5...</td>\n",
       "    </tr>\n",
       "    <tr>\n",
       "      <th>22</th>\n",
       "      <td>23</td>\n",
       "      <td>temp/inPhase(1)/20181215_152525_Avanto/scans/5...</td>\n",
       "    </tr>\n",
       "    <tr>\n",
       "      <th>23</th>\n",
       "      <td>24</td>\n",
       "      <td>temp/inPhase(1)/20181215_152525_Avanto/scans/5...</td>\n",
       "    </tr>\n",
       "    <tr>\n",
       "      <th>24</th>\n",
       "      <td>25</td>\n",
       "      <td>temp/inPhase(1)/20181215_152525_Avanto/scans/5...</td>\n",
       "    </tr>\n",
       "    <tr>\n",
       "      <th>25</th>\n",
       "      <td>26</td>\n",
       "      <td>temp/inPhase(1)/20181215_152525_Avanto/scans/5...</td>\n",
       "    </tr>\n",
       "    <tr>\n",
       "      <th>26</th>\n",
       "      <td>27</td>\n",
       "      <td>temp/inPhase(1)/20181215_152525_Avanto/scans/5...</td>\n",
       "    </tr>\n",
       "    <tr>\n",
       "      <th>27</th>\n",
       "      <td>28</td>\n",
       "      <td>temp/inPhase(1)/20181215_152525_Avanto/scans/5...</td>\n",
       "    </tr>\n",
       "    <tr>\n",
       "      <th>28</th>\n",
       "      <td>29</td>\n",
       "      <td>temp/inPhase(1)/20181215_152525_Avanto/scans/5...</td>\n",
       "    </tr>\n",
       "    <tr>\n",
       "      <th>29</th>\n",
       "      <td>30</td>\n",
       "      <td>temp/inPhase(1)/20181215_152525_Avanto/scans/5...</td>\n",
       "    </tr>\n",
       "    <tr>\n",
       "      <th>...</th>\n",
       "      <td>...</td>\n",
       "      <td>...</td>\n",
       "    </tr>\n",
       "    <tr>\n",
       "      <th>210</th>\n",
       "      <td>211</td>\n",
       "      <td>temp/inPhase(1)/20181215_152525_Avanto/scans/5...</td>\n",
       "    </tr>\n",
       "    <tr>\n",
       "      <th>211</th>\n",
       "      <td>212</td>\n",
       "      <td>temp/inPhase(1)/20181215_152525_Avanto/scans/5...</td>\n",
       "    </tr>\n",
       "    <tr>\n",
       "      <th>212</th>\n",
       "      <td>213</td>\n",
       "      <td>temp/inPhase(1)/20181215_152525_Avanto/scans/5...</td>\n",
       "    </tr>\n",
       "    <tr>\n",
       "      <th>213</th>\n",
       "      <td>214</td>\n",
       "      <td>temp/inPhase(1)/20181215_152525_Avanto/scans/5...</td>\n",
       "    </tr>\n",
       "    <tr>\n",
       "      <th>214</th>\n",
       "      <td>215</td>\n",
       "      <td>temp/inPhase(1)/20181215_152525_Avanto/scans/5...</td>\n",
       "    </tr>\n",
       "    <tr>\n",
       "      <th>215</th>\n",
       "      <td>216</td>\n",
       "      <td>temp/inPhase(1)/20181215_152525_Avanto/scans/5...</td>\n",
       "    </tr>\n",
       "    <tr>\n",
       "      <th>216</th>\n",
       "      <td>217</td>\n",
       "      <td>temp/inPhase(1)/20181215_152525_Avanto/scans/5...</td>\n",
       "    </tr>\n",
       "    <tr>\n",
       "      <th>217</th>\n",
       "      <td>218</td>\n",
       "      <td>temp/inPhase(1)/20181215_152525_Avanto/scans/5...</td>\n",
       "    </tr>\n",
       "    <tr>\n",
       "      <th>218</th>\n",
       "      <td>219</td>\n",
       "      <td>temp/inPhase(1)/20181215_152525_Avanto/scans/5...</td>\n",
       "    </tr>\n",
       "    <tr>\n",
       "      <th>219</th>\n",
       "      <td>220</td>\n",
       "      <td>temp/inPhase(1)/20181215_152525_Avanto/scans/5...</td>\n",
       "    </tr>\n",
       "    <tr>\n",
       "      <th>220</th>\n",
       "      <td>221</td>\n",
       "      <td>temp/inPhase(1)/20181215_152525_Avanto/scans/5...</td>\n",
       "    </tr>\n",
       "    <tr>\n",
       "      <th>221</th>\n",
       "      <td>222</td>\n",
       "      <td>temp/inPhase(1)/20181215_152525_Avanto/scans/5...</td>\n",
       "    </tr>\n",
       "    <tr>\n",
       "      <th>222</th>\n",
       "      <td>223</td>\n",
       "      <td>temp/inPhase(1)/20181215_152525_Avanto/scans/5...</td>\n",
       "    </tr>\n",
       "    <tr>\n",
       "      <th>223</th>\n",
       "      <td>224</td>\n",
       "      <td>temp/inPhase(1)/20181215_152525_Avanto/scans/5...</td>\n",
       "    </tr>\n",
       "    <tr>\n",
       "      <th>224</th>\n",
       "      <td>225</td>\n",
       "      <td>temp/inPhase(1)/20181215_152525_Avanto/scans/5...</td>\n",
       "    </tr>\n",
       "    <tr>\n",
       "      <th>225</th>\n",
       "      <td>226</td>\n",
       "      <td>temp/inPhase(1)/20181215_152525_Avanto/scans/5...</td>\n",
       "    </tr>\n",
       "    <tr>\n",
       "      <th>226</th>\n",
       "      <td>227</td>\n",
       "      <td>temp/inPhase(1)/20181215_152525_Avanto/scans/5...</td>\n",
       "    </tr>\n",
       "    <tr>\n",
       "      <th>227</th>\n",
       "      <td>228</td>\n",
       "      <td>temp/inPhase(1)/20181215_152525_Avanto/scans/5...</td>\n",
       "    </tr>\n",
       "    <tr>\n",
       "      <th>228</th>\n",
       "      <td>229</td>\n",
       "      <td>temp/inPhase(1)/20181215_152525_Avanto/scans/5...</td>\n",
       "    </tr>\n",
       "    <tr>\n",
       "      <th>229</th>\n",
       "      <td>230</td>\n",
       "      <td>temp/inPhase(1)/20181215_152525_Avanto/scans/5...</td>\n",
       "    </tr>\n",
       "    <tr>\n",
       "      <th>230</th>\n",
       "      <td>231</td>\n",
       "      <td>temp/inPhase(1)/20181215_152525_Avanto/scans/5...</td>\n",
       "    </tr>\n",
       "    <tr>\n",
       "      <th>231</th>\n",
       "      <td>232</td>\n",
       "      <td>temp/inPhase(1)/20181215_152525_Avanto/scans/5...</td>\n",
       "    </tr>\n",
       "    <tr>\n",
       "      <th>232</th>\n",
       "      <td>233</td>\n",
       "      <td>temp/inPhase(1)/20181215_152525_Avanto/scans/5...</td>\n",
       "    </tr>\n",
       "    <tr>\n",
       "      <th>233</th>\n",
       "      <td>234</td>\n",
       "      <td>temp/inPhase(1)/20181215_152525_Avanto/scans/5...</td>\n",
       "    </tr>\n",
       "    <tr>\n",
       "      <th>234</th>\n",
       "      <td>235</td>\n",
       "      <td>temp/inPhase(1)/20181215_152525_Avanto/scans/5...</td>\n",
       "    </tr>\n",
       "    <tr>\n",
       "      <th>235</th>\n",
       "      <td>236</td>\n",
       "      <td>temp/inPhase(1)/20181215_152525_Avanto/scans/5...</td>\n",
       "    </tr>\n",
       "    <tr>\n",
       "      <th>236</th>\n",
       "      <td>237</td>\n",
       "      <td>temp/inPhase(1)/20181215_152525_Avanto/scans/5...</td>\n",
       "    </tr>\n",
       "    <tr>\n",
       "      <th>237</th>\n",
       "      <td>238</td>\n",
       "      <td>temp/inPhase(1)/20181215_152525_Avanto/scans/5...</td>\n",
       "    </tr>\n",
       "    <tr>\n",
       "      <th>238</th>\n",
       "      <td>239</td>\n",
       "      <td>temp/inPhase(1)/20181215_152525_Avanto/scans/5...</td>\n",
       "    </tr>\n",
       "    <tr>\n",
       "      <th>239</th>\n",
       "      <td>240</td>\n",
       "      <td>temp/inPhase(1)/20181215_152525_Avanto/scans/5...</td>\n",
       "    </tr>\n",
       "  </tbody>\n",
       "</table>\n",
       "<p>240 rows × 2 columns</p>\n",
       "</div>"
      ],
      "text/plain": [
       "     InstanceNumber                                               path\n",
       "0                 1  temp/inPhase(1)/20181215_152525_Avanto/scans/5...\n",
       "1                 2  temp/inPhase(1)/20181215_152525_Avanto/scans/5...\n",
       "2                 3  temp/inPhase(1)/20181215_152525_Avanto/scans/5...\n",
       "3                 4  temp/inPhase(1)/20181215_152525_Avanto/scans/5...\n",
       "4                 5  temp/inPhase(1)/20181215_152525_Avanto/scans/5...\n",
       "5                 6  temp/inPhase(1)/20181215_152525_Avanto/scans/5...\n",
       "6                 7  temp/inPhase(1)/20181215_152525_Avanto/scans/5...\n",
       "7                 8  temp/inPhase(1)/20181215_152525_Avanto/scans/5...\n",
       "8                 9  temp/inPhase(1)/20181215_152525_Avanto/scans/5...\n",
       "9                10  temp/inPhase(1)/20181215_152525_Avanto/scans/5...\n",
       "10               11  temp/inPhase(1)/20181215_152525_Avanto/scans/5...\n",
       "11               12  temp/inPhase(1)/20181215_152525_Avanto/scans/5...\n",
       "12               13  temp/inPhase(1)/20181215_152525_Avanto/scans/5...\n",
       "13               14  temp/inPhase(1)/20181215_152525_Avanto/scans/5...\n",
       "14               15  temp/inPhase(1)/20181215_152525_Avanto/scans/5...\n",
       "15               16  temp/inPhase(1)/20181215_152525_Avanto/scans/5...\n",
       "16               17  temp/inPhase(1)/20181215_152525_Avanto/scans/5...\n",
       "17               18  temp/inPhase(1)/20181215_152525_Avanto/scans/5...\n",
       "18               19  temp/inPhase(1)/20181215_152525_Avanto/scans/5...\n",
       "19               20  temp/inPhase(1)/20181215_152525_Avanto/scans/5...\n",
       "20               21  temp/inPhase(1)/20181215_152525_Avanto/scans/5...\n",
       "21               22  temp/inPhase(1)/20181215_152525_Avanto/scans/5...\n",
       "22               23  temp/inPhase(1)/20181215_152525_Avanto/scans/5...\n",
       "23               24  temp/inPhase(1)/20181215_152525_Avanto/scans/5...\n",
       "24               25  temp/inPhase(1)/20181215_152525_Avanto/scans/5...\n",
       "25               26  temp/inPhase(1)/20181215_152525_Avanto/scans/5...\n",
       "26               27  temp/inPhase(1)/20181215_152525_Avanto/scans/5...\n",
       "27               28  temp/inPhase(1)/20181215_152525_Avanto/scans/5...\n",
       "28               29  temp/inPhase(1)/20181215_152525_Avanto/scans/5...\n",
       "29               30  temp/inPhase(1)/20181215_152525_Avanto/scans/5...\n",
       "..              ...                                                ...\n",
       "210             211  temp/inPhase(1)/20181215_152525_Avanto/scans/5...\n",
       "211             212  temp/inPhase(1)/20181215_152525_Avanto/scans/5...\n",
       "212             213  temp/inPhase(1)/20181215_152525_Avanto/scans/5...\n",
       "213             214  temp/inPhase(1)/20181215_152525_Avanto/scans/5...\n",
       "214             215  temp/inPhase(1)/20181215_152525_Avanto/scans/5...\n",
       "215             216  temp/inPhase(1)/20181215_152525_Avanto/scans/5...\n",
       "216             217  temp/inPhase(1)/20181215_152525_Avanto/scans/5...\n",
       "217             218  temp/inPhase(1)/20181215_152525_Avanto/scans/5...\n",
       "218             219  temp/inPhase(1)/20181215_152525_Avanto/scans/5...\n",
       "219             220  temp/inPhase(1)/20181215_152525_Avanto/scans/5...\n",
       "220             221  temp/inPhase(1)/20181215_152525_Avanto/scans/5...\n",
       "221             222  temp/inPhase(1)/20181215_152525_Avanto/scans/5...\n",
       "222             223  temp/inPhase(1)/20181215_152525_Avanto/scans/5...\n",
       "223             224  temp/inPhase(1)/20181215_152525_Avanto/scans/5...\n",
       "224             225  temp/inPhase(1)/20181215_152525_Avanto/scans/5...\n",
       "225             226  temp/inPhase(1)/20181215_152525_Avanto/scans/5...\n",
       "226             227  temp/inPhase(1)/20181215_152525_Avanto/scans/5...\n",
       "227             228  temp/inPhase(1)/20181215_152525_Avanto/scans/5...\n",
       "228             229  temp/inPhase(1)/20181215_152525_Avanto/scans/5...\n",
       "229             230  temp/inPhase(1)/20181215_152525_Avanto/scans/5...\n",
       "230             231  temp/inPhase(1)/20181215_152525_Avanto/scans/5...\n",
       "231             232  temp/inPhase(1)/20181215_152525_Avanto/scans/5...\n",
       "232             233  temp/inPhase(1)/20181215_152525_Avanto/scans/5...\n",
       "233             234  temp/inPhase(1)/20181215_152525_Avanto/scans/5...\n",
       "234             235  temp/inPhase(1)/20181215_152525_Avanto/scans/5...\n",
       "235             236  temp/inPhase(1)/20181215_152525_Avanto/scans/5...\n",
       "236             237  temp/inPhase(1)/20181215_152525_Avanto/scans/5...\n",
       "237             238  temp/inPhase(1)/20181215_152525_Avanto/scans/5...\n",
       "238             239  temp/inPhase(1)/20181215_152525_Avanto/scans/5...\n",
       "239             240  temp/inPhase(1)/20181215_152525_Avanto/scans/5...\n",
       "\n",
       "[240 rows x 2 columns]"
      ]
     },
     "execution_count": 85,
     "metadata": {},
     "output_type": "execute_result"
    }
   ],
   "source": [
    "df[['InstanceNumber','path']]"
   ]
  },
  {
   "cell_type": "code",
   "execution_count": 87,
   "metadata": {},
   "outputs": [
    {
     "ename": "TypeError",
     "evalue": "myfunc() missing 2 required positional arguments: 'path' and 'instance_number'",
     "output_type": "error",
     "traceback": [
      "\u001b[0;31m---------------------------------------------------------------------------\u001b[0m",
      "\u001b[0;31mTypeError\u001b[0m                                 Traceback (most recent call last)",
      "\u001b[0;32m<ipython-input-87-3ea79348d7d8>\u001b[0m in \u001b[0;36m<module>\u001b[0;34m\u001b[0m\n\u001b[0;32m----> 1\u001b[0;31m \u001b[0mdf\u001b[0m\u001b[0;34m[\u001b[0m\u001b[0;34m[\u001b[0m\u001b[0;34m'InstanceNumber'\u001b[0m\u001b[0;34m,\u001b[0m\u001b[0;34m'path'\u001b[0m\u001b[0;34m]\u001b[0m\u001b[0;34m]\u001b[0m\u001b[0;34m.\u001b[0m\u001b[0mapply\u001b[0m\u001b[0;34m(\u001b[0m\u001b[0mmyfunc\u001b[0m\u001b[0;34m(\u001b[0m\u001b[0;34m)\u001b[0m\u001b[0;34m)\u001b[0m\u001b[0;34m\u001b[0m\u001b[0;34m\u001b[0m\u001b[0m\n\u001b[0m",
      "\u001b[0;31mTypeError\u001b[0m: myfunc() missing 2 required positional arguments: 'path' and 'instance_number'"
     ]
    }
   ],
   "source": [
    "df[['InstanceNumber','path']].apply(myfunc())"
   ]
  },
  {
   "cell_type": "markdown",
   "metadata": {},
   "source": [
    "https://stackoverflow.com/questions/16476924/how-to-iterate-over-rows-in-a-dataframe-in-pandas/41022840#41022840"
   ]
  },
  {
   "cell_type": "markdown",
   "metadata": {},
   "source": [
    "https://stackoverflow.com/questions/16476924/how-to-iterate-over-rows-in-a-dataframe-in-pandas/55557758#55557758"
   ]
  },
  {
   "cell_type": "markdown",
   "metadata": {},
   "source": [
    "https://stackoverflow.com/questions/13331698/how-to-apply-a-function-to-two-columns-of-pandas-dataframe"
   ]
  }
 ],
 "metadata": {
  "kernelspec": {
   "display_name": "Python 3",
   "language": "python",
   "name": "python3"
  },
  "language_info": {
   "codemirror_mode": {
    "name": "ipython",
    "version": 3
   },
   "file_extension": ".py",
   "mimetype": "text/x-python",
   "name": "python",
   "nbconvert_exporter": "python",
   "pygments_lexer": "ipython3",
   "version": "3.7.3"
  }
 },
 "nbformat": 4,
 "nbformat_minor": 2
}
