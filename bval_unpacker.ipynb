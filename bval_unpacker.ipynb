{
 "cells": [
  {
   "cell_type": "code",
   "execution_count": 2,
   "metadata": {
    "pycharm": {
     "is_executing": false
    }
   },
   "outputs": [],
   "source": [
    "import pydicom\n",
    "import os\n",
    "import shutil"
   ]
  },
  {
   "cell_type": "code",
   "execution_count": 9,
   "metadata": {},
   "outputs": [],
   "source": [
    "p = '/Users/tbarfoot/Downloads/scans 2/32_ep2d_diff_stir_b50_600_900_tra_p2_134_TRACEW_DFC_MIX_COMP_DIF/DICOM'"
   ]
  },
  {
   "cell_type": "code",
   "execution_count": 10,
   "metadata": {
    "pycharm": {
     "is_executing": false
    }
   },
   "outputs": [],
   "source": [
    "local_paths_dict = {'dixon': {'in': None, 'out': None, 'fat': None, 'water': None},\n",
    "            'diffusion': {'b50': None, 'b600': None, 'b900': None, 'adc': None, 'bvals': p}}"
   ]
  },
  {
   "cell_type": "code",
   "execution_count": null,
   "metadata": {},
   "outputs": [],
   "source": [
    "    if dcm.SequenceName == '*ep_b50t':\n",
    "                    if not os.path.exists('temp_temp/b50'):\n",
    "                        os.makedirs('temp_temp/b50')\n",
    "                    os.rename(dcm_path, os.path.join('temp_temp/b50',filename))\n",
    "                elif dcm.SequenceName == '*ep_b600t':\n",
    "                    if not os.path.exists('temp_temp/b600'):\n",
    "                        os.makedirs('temp_temp/b600')\n",
    "                    os.rename(dcm_path, os.path.join('temp_temp/b600',filename))\n",
    "                elif dcm.SequenceName == '*ep_b900t':\n",
    "                    if not os.path.exists('temp_temp/b900'):\n",
    "                        os.makedirs('temp_temp/b900')\n",
    "                    os.rename(dcm_path, os.path.join('temp_temp/b900',filename))"
   ]
  },
  {
   "cell_type": "code",
   "execution_count": 4,
   "metadata": {},
   "outputs": [
    {
     "data": {
      "text/plain": [
       "'/Users/tbarfoot/Documents/slice order correction/scans/p039_2/27_ep2d_diff_stir_b50_600_900_tra_p2_134_TRACEW_DFC_MIX_COMP_DIF/DICOM/'"
      ]
     },
     "execution_count": 4,
     "metadata": {},
     "output_type": "execute_result"
    }
   ],
   "source": [
    "path = local_paths_dict['diffusion']['bvals']\n",
    "path"
   ]
  },
  {
   "cell_type": "code",
   "execution_count": 11,
   "metadata": {
    "pycharm": {
     "is_executing": false,
     "name": "#%%\n"
    }
   },
   "outputs": [],
   "source": [
    "b_path = local_paths_dict['diffusion']['bvals']\n",
    "series_names = ('b50', 'b600', 'b900')\n",
    "if b_path:\n",
    "    dcm_folder_path = os.path.split(path)[0]\n",
    "    for dirName, subdirList, fileList in os.walk(b_path):\n",
    "        for filename in fileList:\n",
    "            if \".dcm\" in filename.lower():\n",
    "                dcm_path = os.path.join(dirName, filename)\n",
    "                dcm = pydicom.dcmread(dcm_path, stop_before_pixels=True)\n",
    "                for name in series_names:\n",
    "                    if name in dcm.SequenceName:\n",
    "                        if not os.path.exists(os.path.join(dcm_folder_path,name)):\n",
    "                            os.makedirs(os.path.join(dcm_folder_path,name))\n",
    "                        os.rename(dcm_path, os.path.join(dcm_folder_path,name,filename))\n",
    "    # shutil.rmtree(b_path, ignore_errors=True)"
   ]
  },
  {
   "cell_type": "code",
   "execution_count": 41,
   "metadata": {},
   "outputs": [
    {
     "data": {
      "text/plain": [
       "'temp_temp/dicoms/bvals/27_ep2d_diff_stir_b50_600_900_tra_p2_134_TRACEW_DFC_COMP_DIF/DICOM/1.2.840.113564.9.1.2843759204.47.2.5001195391-27-96-z6dwg2.dcm/b50'"
      ]
     },
     "execution_count": 41,
     "metadata": {},
     "output_type": "execute_result"
    }
   ],
   "source": [
    "os.path.join(dcm_path,name)"
   ]
  },
  {
   "cell_type": "code",
   "execution_count": 19,
   "metadata": {},
   "outputs": [
    {
     "name": "stdout",
     "output_type": "stream",
     "text": [
      "b900\n"
     ]
    }
   ],
   "source": [
    "for name in series_names:\n",
    "    if name in '*ep_b900t':\n",
    "        print(name)"
   ]
  },
  {
   "cell_type": "code",
   "execution_count": 7,
   "metadata": {
    "pycharm": {
     "is_executing": false,
     "name": "#%%\n"
    }
   },
   "outputs": [
    {
     "data": {
      "text/plain": [
       "'*ep_b900t'"
      ]
     },
     "execution_count": 7,
     "metadata": {},
     "output_type": "execute_result"
    }
   ],
   "source": [
    "dcm.SequenceName"
   ]
  },
  {
   "cell_type": "code",
   "execution_count": null,
   "metadata": {
    "pycharm": {
     "name": "#%%\n"
    }
   },
   "outputs": [],
   "source": [
    "\n"
   ]
  }
 ],
 "metadata": {
  "kernelspec": {
   "display_name": "Python 3",
   "language": "python",
   "name": "python3"
  },
  "language_info": {
   "codemirror_mode": {
    "name": "ipython",
    "version": 3
   },
   "file_extension": ".py",
   "mimetype": "text/x-python",
   "name": "python",
   "nbconvert_exporter": "python",
   "pygments_lexer": "ipython3",
   "version": "3.7.3"
  },
  "pycharm": {
   "stem_cell": {
    "cell_type": "raw",
    "metadata": {
     "collapsed": false
    },
    "source": []
   }
  }
 },
 "nbformat": 4,
 "nbformat_minor": 2
}
